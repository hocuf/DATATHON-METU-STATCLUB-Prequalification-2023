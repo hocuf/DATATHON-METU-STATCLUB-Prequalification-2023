{
 "cells": [
  {
   "cell_type": "markdown",
   "id": "782cbde2",
   "metadata": {},
   "source": [
    "# DATATHON@METUSTATCLUB ÖN ELEME!"
   ]
  },
  {
   "cell_type": "markdown",
   "id": "c95a794b",
   "metadata": {},
   "source": [
    "In this datathon project you will be given an 18-month transaction dataset. You will start by dividing this dataset into 2 separate 9-month periods. You will create a churn model using the first 9-month period.\n",
    "\n",
    "In the second step, you will create a churn variable. The first 9-month period will be used for this process. For example, users who were active in the first 6-month period will be identified and it will be determined whether these users churned in the last 3-month period. If there is a response imbalance, this problem should be solved before model creation.\n",
    "\n",
    "Finally, using what you have learnt from the first 9-month period, you will use your churn model to predict whether the active customers in the dataset in the second 9-month period (for example, those active in the first 6 months of the second dataset) will churn in the last 3 months.\n",
    "\n",
    "This project focuses on analysing the transaction dataset and predicting the probability of customer churn. Steps such as processing this data, building a model and interpreting the results are necessary to analyse the data."
   ]
  },
  {
   "cell_type": "markdown",
   "id": "8a93cb5a",
   "metadata": {},
   "source": [
    "#### STEPS:\n",
    "- Read the documentation describing the dataset and the notes about the dataset.\n",
    "- Load the dataset and examine the dataset to analyse the data.\n",
    "- Analyse the size, columns, number of missing data and other statistical properties of the data set.\n",
    "- Divide the data set into two separate 9-month periods.\n",
    "- Churn variable is created. In the creation of this variable, users who are active in the first 6 months of the first 9-month period will be determined and it is determined whether churn has been performed in the last 3 months.\n",
    "- Appropriate techniques are applied if necessary to solve the imbalance of the churn variable.\n",
    "- Select an appropriate algorithm to create a churn model and train this model using it in the first 9-month period.\n",
    "- Test the created churn model and evaluate its performance.\n",
    "- Load the dataset in the second 9-month period and using the model, estimate the probability that users who were active in the first 6-month period will churn in the last 3 months.\n",
    "- Test your predictions and evaluate the model performance\n",
    "- Results are visualised and interpreted."
   ]
  },
  {
   "cell_type": "code",
   "execution_count": null,
   "id": "3d824b4b",
   "metadata": {},
   "outputs": [],
   "source": []
  },
  {
   "cell_type": "code",
   "execution_count": null,
   "id": "8f967eda",
   "metadata": {},
   "outputs": [],
   "source": []
  },
  {
   "cell_type": "code",
   "execution_count": null,
   "id": "83bc5309",
   "metadata": {},
   "outputs": [],
   "source": []
  },
  {
   "cell_type": "code",
   "execution_count": null,
   "id": "8bb057c7",
   "metadata": {},
   "outputs": [],
   "source": []
  },
  {
   "cell_type": "code",
   "execution_count": 1,
   "id": "aed81f03",
   "metadata": {},
   "outputs": [],
   "source": [
    "import pandas as pd\n",
    "import numpy as np\n",
    "from dateutil.relativedelta import relativedelta\n",
    "from imblearn.over_sampling import SMOTE\n",
    "from sklearn.model_selection import train_test_split\n",
    "\n",
    "\n",
    "\n",
    "         # Clsassification Models\n",
    "from sklearn.naive_bayes import GaussianNB, BernoulliNB\n",
    "from sklearn.svm import SVC\n",
    "from sklearn.ensemble import RandomForestClassifier, GradientBoostingClassifier\n",
    "from sklearn.neighbors import KNeighborsClassifier\n",
    "from sklearn.linear_model import LogisticRegression\n",
    "from sklearn.tree import DecisionTreeClassifier, ExtraTreeRegressor\n",
    "\n",
    "\n",
    "        # Deep Learning\n",
    "from tensorflow.keras.models import Sequential\n",
    "from tensorflow.keras.layers import Dense\n",
    "\n",
    "\n",
    "          # Testing\n",
    "from sklearn.metrics import accuracy_score, confusion_matrix,classification_report"
   ]
  },
  {
   "cell_type": "code",
   "execution_count": 2,
   "id": "e3c80d95",
   "metadata": {},
   "outputs": [],
   "source": [
    "#!pip install openpyxl"
   ]
  },
  {
   "cell_type": "code",
   "execution_count": 3,
   "id": "7d81eb25",
   "metadata": {},
   "outputs": [],
   "source": [
    "sales = pd.read_excel(\"sales23.xlsx\")\n",
    "customers = pd.read_excel(\"customers23.xlsx\")\n",
    "products = pd.read_excel(\"products23.xlsx\")"
   ]
  },
  {
   "cell_type": "markdown",
   "id": "2aa9d4d0",
   "metadata": {},
   "source": [
    "## Exploratory Data Analysis"
   ]
  },
  {
   "cell_type": "code",
   "execution_count": 4,
   "id": "1a27f020",
   "metadata": {},
   "outputs": [
    {
     "data": {
      "text/html": [
       "<div>\n",
       "<style scoped>\n",
       "    .dataframe tbody tr th:only-of-type {\n",
       "        vertical-align: middle;\n",
       "    }\n",
       "\n",
       "    .dataframe tbody tr th {\n",
       "        vertical-align: top;\n",
       "    }\n",
       "\n",
       "    .dataframe thead th {\n",
       "        text-align: right;\n",
       "    }\n",
       "</style>\n",
       "<table border=\"1\" class=\"dataframe\">\n",
       "  <thead>\n",
       "    <tr style=\"text-align: right;\">\n",
       "      <th></th>\n",
       "      <th>TransactionID</th>\n",
       "      <th>UserID</th>\n",
       "      <th>DateTime</th>\n",
       "      <th>ProductID</th>\n",
       "      <th>Channel</th>\n",
       "      <th>PaymentType</th>\n",
       "      <th>Price</th>\n",
       "      <th>Discount</th>\n",
       "    </tr>\n",
       "  </thead>\n",
       "  <tbody>\n",
       "    <tr>\n",
       "      <th>0</th>\n",
       "      <td>1</td>\n",
       "      <td>500546547</td>\n",
       "      <td>2017-01-01 01:40:39.180</td>\n",
       "      <td>10334</td>\n",
       "      <td>MOBILE</td>\n",
       "      <td>Cash</td>\n",
       "      <td>51.0</td>\n",
       "      <td>No</td>\n",
       "    </tr>\n",
       "  </tbody>\n",
       "</table>\n",
       "</div>"
      ],
      "text/plain": [
       "   TransactionID     UserID                DateTime  ProductID Channel  \\\n",
       "0              1  500546547 2017-01-01 01:40:39.180      10334  MOBILE   \n",
       "\n",
       "  PaymentType  Price Discount  \n",
       "0        Cash   51.0       No  "
      ]
     },
     "execution_count": 4,
     "metadata": {},
     "output_type": "execute_result"
    }
   ],
   "source": [
    "sales.head(1)"
   ]
  },
  {
   "cell_type": "code",
   "execution_count": 5,
   "id": "12895001",
   "metadata": {},
   "outputs": [
    {
     "data": {
      "text/html": [
       "<div>\n",
       "<style scoped>\n",
       "    .dataframe tbody tr th:only-of-type {\n",
       "        vertical-align: middle;\n",
       "    }\n",
       "\n",
       "    .dataframe tbody tr th {\n",
       "        vertical-align: top;\n",
       "    }\n",
       "\n",
       "    .dataframe thead th {\n",
       "        text-align: right;\n",
       "    }\n",
       "</style>\n",
       "<table border=\"1\" class=\"dataframe\">\n",
       "  <thead>\n",
       "    <tr style=\"text-align: right;\">\n",
       "      <th></th>\n",
       "      <th>ProductID</th>\n",
       "      <th>Category</th>\n",
       "    </tr>\n",
       "  </thead>\n",
       "  <tbody>\n",
       "    <tr>\n",
       "      <th>0</th>\n",
       "      <td>10001</td>\n",
       "      <td>Female Shoes</td>\n",
       "    </tr>\n",
       "  </tbody>\n",
       "</table>\n",
       "</div>"
      ],
      "text/plain": [
       "   ProductID      Category\n",
       "0      10001  Female Shoes"
      ]
     },
     "execution_count": 5,
     "metadata": {},
     "output_type": "execute_result"
    }
   ],
   "source": [
    "products.head(1)"
   ]
  },
  {
   "cell_type": "code",
   "execution_count": 6,
   "id": "bdbd5588",
   "metadata": {},
   "outputs": [
    {
     "data": {
      "text/html": [
       "<div>\n",
       "<style scoped>\n",
       "    .dataframe tbody tr th:only-of-type {\n",
       "        vertical-align: middle;\n",
       "    }\n",
       "\n",
       "    .dataframe tbody tr th {\n",
       "        vertical-align: top;\n",
       "    }\n",
       "\n",
       "    .dataframe thead th {\n",
       "        text-align: right;\n",
       "    }\n",
       "</style>\n",
       "<table border=\"1\" class=\"dataframe\">\n",
       "  <thead>\n",
       "    <tr style=\"text-align: right;\">\n",
       "      <th></th>\n",
       "      <th>UserID</th>\n",
       "      <th>UserFirstTransaction</th>\n",
       "      <th>Gender</th>\n",
       "      <th>Location</th>\n",
       "      <th>Age</th>\n",
       "    </tr>\n",
       "  </thead>\n",
       "  <tbody>\n",
       "    <tr>\n",
       "      <th>0</th>\n",
       "      <td>500234532</td>\n",
       "      <td>2011-10-12</td>\n",
       "      <td>FEMALE</td>\n",
       "      <td>ANTALYA</td>\n",
       "      <td>19</td>\n",
       "    </tr>\n",
       "  </tbody>\n",
       "</table>\n",
       "</div>"
      ],
      "text/plain": [
       "      UserID UserFirstTransaction  Gender Location  Age\n",
       "0  500234532           2011-10-12  FEMALE  ANTALYA   19"
      ]
     },
     "execution_count": 6,
     "metadata": {},
     "output_type": "execute_result"
    }
   ],
   "source": [
    "customers.head(1)"
   ]
  },
  {
   "cell_type": "code",
   "execution_count": 7,
   "id": "84e9f06e",
   "metadata": {},
   "outputs": [
    {
     "data": {
      "text/html": [
       "<div>\n",
       "<style scoped>\n",
       "    .dataframe tbody tr th:only-of-type {\n",
       "        vertical-align: middle;\n",
       "    }\n",
       "\n",
       "    .dataframe tbody tr th {\n",
       "        vertical-align: top;\n",
       "    }\n",
       "\n",
       "    .dataframe thead th {\n",
       "        text-align: right;\n",
       "    }\n",
       "</style>\n",
       "<table border=\"1\" class=\"dataframe\">\n",
       "  <thead>\n",
       "    <tr style=\"text-align: right;\">\n",
       "      <th></th>\n",
       "      <th>TransactionID</th>\n",
       "      <th>UserID</th>\n",
       "      <th>DateTime</th>\n",
       "      <th>ProductID</th>\n",
       "      <th>Channel</th>\n",
       "      <th>PaymentType</th>\n",
       "      <th>Price</th>\n",
       "      <th>Discount</th>\n",
       "      <th>UserFirstTransaction</th>\n",
       "      <th>Gender</th>\n",
       "      <th>Location</th>\n",
       "      <th>Age</th>\n",
       "    </tr>\n",
       "  </thead>\n",
       "  <tbody>\n",
       "    <tr>\n",
       "      <th>0</th>\n",
       "      <td>1</td>\n",
       "      <td>500546547</td>\n",
       "      <td>2017-01-01 01:40:39.180</td>\n",
       "      <td>10334</td>\n",
       "      <td>MOBILE</td>\n",
       "      <td>Cash</td>\n",
       "      <td>51.0</td>\n",
       "      <td>No</td>\n",
       "      <td>2015-03-18</td>\n",
       "      <td>FEMALE</td>\n",
       "      <td>ANKARA</td>\n",
       "      <td>30</td>\n",
       "    </tr>\n",
       "  </tbody>\n",
       "</table>\n",
       "</div>"
      ],
      "text/plain": [
       "   TransactionID     UserID                DateTime  ProductID Channel  \\\n",
       "0              1  500546547 2017-01-01 01:40:39.180      10334  MOBILE   \n",
       "\n",
       "  PaymentType  Price Discount UserFirstTransaction  Gender Location  Age  \n",
       "0        Cash   51.0       No           2015-03-18  FEMALE   ANKARA   30  "
      ]
     },
     "execution_count": 7,
     "metadata": {},
     "output_type": "execute_result"
    }
   ],
   "source": [
    "merged_df = pd.merge(sales, customers, on='UserID')\n",
    "merged_df.head(1)"
   ]
  },
  {
   "cell_type": "code",
   "execution_count": 8,
   "id": "0ed1420f",
   "metadata": {},
   "outputs": [
    {
     "data": {
      "text/html": [
       "<div>\n",
       "<style scoped>\n",
       "    .dataframe tbody tr th:only-of-type {\n",
       "        vertical-align: middle;\n",
       "    }\n",
       "\n",
       "    .dataframe tbody tr th {\n",
       "        vertical-align: top;\n",
       "    }\n",
       "\n",
       "    .dataframe thead th {\n",
       "        text-align: right;\n",
       "    }\n",
       "</style>\n",
       "<table border=\"1\" class=\"dataframe\">\n",
       "  <thead>\n",
       "    <tr style=\"text-align: right;\">\n",
       "      <th></th>\n",
       "      <th>TransactionID</th>\n",
       "      <th>UserID</th>\n",
       "      <th>DateTime</th>\n",
       "      <th>ProductID</th>\n",
       "      <th>Channel</th>\n",
       "      <th>PaymentType</th>\n",
       "      <th>Price</th>\n",
       "      <th>Discount</th>\n",
       "      <th>UserFirstTransaction</th>\n",
       "      <th>Gender</th>\n",
       "      <th>Location</th>\n",
       "      <th>Age</th>\n",
       "      <th>Category</th>\n",
       "    </tr>\n",
       "  </thead>\n",
       "  <tbody>\n",
       "    <tr>\n",
       "      <th>0</th>\n",
       "      <td>1</td>\n",
       "      <td>500546547</td>\n",
       "      <td>2017-01-01 01:40:39.180</td>\n",
       "      <td>10334</td>\n",
       "      <td>MOBILE</td>\n",
       "      <td>Cash</td>\n",
       "      <td>51.0</td>\n",
       "      <td>No</td>\n",
       "      <td>2015-03-18</td>\n",
       "      <td>FEMALE</td>\n",
       "      <td>ANKARA</td>\n",
       "      <td>30</td>\n",
       "      <td>Female Shoes</td>\n",
       "    </tr>\n",
       "  </tbody>\n",
       "</table>\n",
       "</div>"
      ],
      "text/plain": [
       "   TransactionID     UserID                DateTime  ProductID Channel  \\\n",
       "0              1  500546547 2017-01-01 01:40:39.180      10334  MOBILE   \n",
       "\n",
       "  PaymentType  Price Discount UserFirstTransaction  Gender Location  Age  \\\n",
       "0        Cash   51.0       No           2015-03-18  FEMALE   ANKARA   30   \n",
       "\n",
       "       Category  \n",
       "0  Female Shoes  "
      ]
     },
     "execution_count": 8,
     "metadata": {},
     "output_type": "execute_result"
    }
   ],
   "source": [
    "df = pd.merge(merged_df, products, on='ProductID')\n",
    "df.head(1)"
   ]
  },
  {
   "cell_type": "code",
   "execution_count": 9,
   "id": "a5da98e6",
   "metadata": {},
   "outputs": [
    {
     "data": {
      "text/plain": [
       "Index(['TransactionID', 'UserID', 'DateTime', 'ProductID', 'Channel',\n",
       "       'PaymentType', 'Price', 'Discount', 'UserFirstTransaction', 'Gender',\n",
       "       'Location', 'Age', 'Category'],\n",
       "      dtype='object')"
      ]
     },
     "execution_count": 9,
     "metadata": {},
     "output_type": "execute_result"
    }
   ],
   "source": [
    "df.columns"
   ]
  },
  {
   "cell_type": "code",
   "execution_count": 10,
   "id": "dd2afe47",
   "metadata": {},
   "outputs": [
    {
     "name": "stdout",
     "output_type": "stream",
     "text": [
      "<class 'pandas.core.frame.DataFrame'>\n",
      "Int64Index: 69059 entries, 0 to 69058\n",
      "Data columns (total 13 columns):\n",
      " #   Column                Non-Null Count  Dtype         \n",
      "---  ------                --------------  -----         \n",
      " 0   TransactionID         69059 non-null  int64         \n",
      " 1   UserID                69059 non-null  int64         \n",
      " 2   DateTime              69059 non-null  datetime64[ns]\n",
      " 3   ProductID             69059 non-null  int64         \n",
      " 4   Channel               69059 non-null  object        \n",
      " 5   PaymentType           69059 non-null  object        \n",
      " 6   Price                 69059 non-null  float64       \n",
      " 7   Discount              69059 non-null  object        \n",
      " 8   UserFirstTransaction  69059 non-null  datetime64[ns]\n",
      " 9   Gender                69059 non-null  object        \n",
      " 10  Location              69059 non-null  object        \n",
      " 11  Age                   69059 non-null  int64         \n",
      " 12  Category              69059 non-null  object        \n",
      "dtypes: datetime64[ns](2), float64(1), int64(4), object(6)\n",
      "memory usage: 7.4+ MB\n"
     ]
    }
   ],
   "source": [
    "df.info()"
   ]
  },
  {
   "cell_type": "code",
   "execution_count": 11,
   "id": "dcbf847c",
   "metadata": {},
   "outputs": [
    {
     "data": {
      "text/plain": [
       "TransactionID           0\n",
       "UserID                  0\n",
       "DateTime                0\n",
       "ProductID               0\n",
       "Channel                 0\n",
       "PaymentType             0\n",
       "Price                   0\n",
       "Discount                0\n",
       "UserFirstTransaction    0\n",
       "Gender                  0\n",
       "Location                0\n",
       "Age                     0\n",
       "Category                0\n",
       "dtype: int64"
      ]
     },
     "execution_count": 11,
     "metadata": {},
     "output_type": "execute_result"
    }
   ],
   "source": [
    "df.isnull().sum()"
   ]
  },
  {
   "cell_type": "markdown",
   "id": "c132681c",
   "metadata": {},
   "source": [
    "## Feature Engineering"
   ]
  },
  {
   "cell_type": "code",
   "execution_count": 12,
   "id": "397a04f4",
   "metadata": {},
   "outputs": [
    {
     "data": {
      "text/plain": [
       "array([0, 1], dtype=int64)"
      ]
     },
     "execution_count": 12,
     "metadata": {},
     "output_type": "execute_result"
    }
   ],
   "source": [
    "df[\"Discount\"]= df[\"Discount\"].map({'No':0,'Yes':1})\n",
    "df[\"Discount\"].unique()"
   ]
  },
  {
   "cell_type": "code",
   "execution_count": 13,
   "id": "aa83c80b",
   "metadata": {},
   "outputs": [
    {
     "data": {
      "text/plain": [
       "array(['Female Shoes', 'Female Fashion', 'Sport Shoes', 'Smart Phones',\n",
       "       'Electronic Accessories', 'Kitchen Electronics',\n",
       "       'Computers & Laptops', 'TVs and TV Sets', 'Male Shoes',\n",
       "       'Outdoor Sports', 'Hobbies', 'Male Fashion', 'Sound Systems',\n",
       "       'Smart Watches', 'Indoor Sports'], dtype=object)"
      ]
     },
     "execution_count": 13,
     "metadata": {},
     "output_type": "execute_result"
    }
   ],
   "source": [
    "df[\"Category\"].unique()"
   ]
  },
  {
   "cell_type": "code",
   "execution_count": 14,
   "id": "b2039021",
   "metadata": {},
   "outputs": [
    {
     "data": {
      "text/plain": [
       "array(['MOBILE', 'WEB'], dtype=object)"
      ]
     },
     "execution_count": 14,
     "metadata": {},
     "output_type": "execute_result"
    }
   ],
   "source": [
    "df[\"Channel\"].unique()"
   ]
  },
  {
   "cell_type": "code",
   "execution_count": 15,
   "id": "a51ae5a3",
   "metadata": {},
   "outputs": [
    {
     "data": {
      "text/plain": [
       "array(['ANKARA', 'TRABZON', 'ESKISEHIR', 'KAYSERI', 'IZMIR', 'ANTALYA',\n",
       "       'ISTANBUL', 'BURSA', 'ADANA'], dtype=object)"
      ]
     },
     "execution_count": 15,
     "metadata": {},
     "output_type": "execute_result"
    }
   ],
   "source": [
    "df[\"Location\"].unique()"
   ]
  },
  {
   "cell_type": "code",
   "execution_count": null,
   "id": "adf8bd81",
   "metadata": {},
   "outputs": [],
   "source": []
  },
  {
   "cell_type": "markdown",
   "id": "19e05ccd",
   "metadata": {},
   "source": [
    "---------------------------------"
   ]
  },
  {
   "cell_type": "markdown",
   "id": "b93d023f",
   "metadata": {},
   "source": [
    "---------------------------------"
   ]
  },
  {
   "cell_type": "markdown",
   "id": "e48f7216",
   "metadata": {},
   "source": [
    "# Question 1: You are given an 18-month transactional data set. Please split this data set into two 9-month periods."
   ]
  },
  {
   "cell_type": "markdown",
   "id": "e7437126",
   "metadata": {},
   "source": [
    "To divide the 18-month transaction dataset into two 9-month periods, you can follow the steps below:\n",
    "\n",
    "- Determine the time range of the dataset by identifying the smallest and largest dates in the dataset.\n",
    "- Add 9 months to the smallest date to determine the first 9-month period. This will be the cut-off date for the first period.\n",
    "- For the first period, filter the transactions from the smallest date to the cut-off date\n",
    "- For the second period, the transactions from the cut-off date to the largest date are filtered."
   ]
  },
  {
   "cell_type": "markdown",
   "id": "fb30ee08",
   "metadata": {},
   "source": [
    "1- Read the dataset and get the '**DateTime**' column in the correct format."
   ]
  },
  {
   "cell_type": "code",
   "execution_count": 16,
   "id": "898883db",
   "metadata": {},
   "outputs": [],
   "source": [
    "df['DateTime'] = pd.to_datetime(df['DateTime'])"
   ]
  },
  {
   "cell_type": "markdown",
   "id": "583f279c",
   "metadata": {},
   "source": [
    "---------------------------------"
   ]
  },
  {
   "cell_type": "markdown",
   "id": "7643bebc",
   "metadata": {},
   "source": [
    "2- The smallest and largest dates in the dataset are determined."
   ]
  },
  {
   "cell_type": "code",
   "execution_count": 17,
   "id": "a7d8063d",
   "metadata": {},
   "outputs": [],
   "source": [
    "min_date = df['DateTime'].min()\n",
    "max_date = df['DateTime'].max()"
   ]
  },
  {
   "cell_type": "markdown",
   "id": "7601de30",
   "metadata": {},
   "source": [
    "- Find the minimum (**min_date**) and maximum (**max_date**) dates in the dataset. This step determines the time range of the dataset."
   ]
  },
  {
   "cell_type": "markdown",
   "id": "bf740edf",
   "metadata": {},
   "source": [
    "---------------------------------"
   ]
  },
  {
   "cell_type": "markdown",
   "id": "203cf324",
   "metadata": {},
   "source": [
    "3- To determine the first 9-month period, 9 months are added to the smallest date."
   ]
  },
  {
   "cell_type": "code",
   "execution_count": 18,
   "id": "59498573",
   "metadata": {},
   "outputs": [],
   "source": [
    "cutoff_date_9_months = min_date + pd.DateOffset(months=9)"
   ]
  },
  {
   "cell_type": "markdown",
   "id": "0044858e",
   "metadata": {},
   "source": [
    "- The cutoff date between two periods is determined by adding 9 months to the smallest date (**cutoff_date_9_months**)."
   ]
  },
  {
   "cell_type": "markdown",
   "id": "8e9fbf7e",
   "metadata": {},
   "source": [
    "---------------------------------"
   ]
  },
  {
   "cell_type": "markdown",
   "id": "4990c36e",
   "metadata": {},
   "source": [
    "4- For the first period, the transactions from the smallest date to the cut-off date are filtered."
   ]
  },
  {
   "cell_type": "code",
   "execution_count": 19,
   "id": "19d947ce",
   "metadata": {},
   "outputs": [],
   "source": [
    "first_period = df[df['DateTime'] <= cutoff_date_9_months]"
   ]
  },
  {
   "cell_type": "markdown",
   "id": "e1fbcd07",
   "metadata": {},
   "source": [
    "- A DataFrame named '**first_period**' is created containing all transactions up to the cut-off date. This DataFrame represents the first 9 months of the dataset."
   ]
  },
  {
   "cell_type": "markdown",
   "id": "267eeb6c",
   "metadata": {},
   "source": [
    "---------------------------------"
   ]
  },
  {
   "cell_type": "markdown",
   "id": "8e2cc99d",
   "metadata": {},
   "source": [
    "5- For the second period, filter the transactions from the cut-off date to the largest date"
   ]
  },
  {
   "cell_type": "code",
   "execution_count": 20,
   "id": "d9eaee8c",
   "metadata": {},
   "outputs": [],
   "source": [
    "second_period = df[df['DateTime'] > cutoff_date_9_months]"
   ]
  },
  {
   "cell_type": "markdown",
   "id": "43dcf5fd",
   "metadata": {},
   "source": [
    "- A DataFrame named '**second_period**' is created containing all transactions after the interrupt date. This DataFrame represents the second 9-month period of the dataset."
   ]
  },
  {
   "cell_type": "markdown",
   "id": "62724006",
   "metadata": {},
   "source": [
    "---------------------------------"
   ]
  },
  {
   "cell_type": "markdown",
   "id": "ba21a183",
   "metadata": {},
   "source": [
    "6- First and second semester data sets are checked."
   ]
  },
  {
   "cell_type": "code",
   "execution_count": 21,
   "id": "c49325af",
   "metadata": {},
   "outputs": [
    {
     "data": {
      "text/html": [
       "<div>\n",
       "<style scoped>\n",
       "    .dataframe tbody tr th:only-of-type {\n",
       "        vertical-align: middle;\n",
       "    }\n",
       "\n",
       "    .dataframe tbody tr th {\n",
       "        vertical-align: top;\n",
       "    }\n",
       "\n",
       "    .dataframe thead th {\n",
       "        text-align: right;\n",
       "    }\n",
       "</style>\n",
       "<table border=\"1\" class=\"dataframe\">\n",
       "  <thead>\n",
       "    <tr style=\"text-align: right;\">\n",
       "      <th></th>\n",
       "      <th>TransactionID</th>\n",
       "      <th>UserID</th>\n",
       "      <th>DateTime</th>\n",
       "      <th>ProductID</th>\n",
       "      <th>Channel</th>\n",
       "      <th>PaymentType</th>\n",
       "      <th>Price</th>\n",
       "      <th>Discount</th>\n",
       "      <th>UserFirstTransaction</th>\n",
       "      <th>Gender</th>\n",
       "      <th>Location</th>\n",
       "      <th>Age</th>\n",
       "      <th>Category</th>\n",
       "    </tr>\n",
       "  </thead>\n",
       "  <tbody>\n",
       "    <tr>\n",
       "      <th>0</th>\n",
       "      <td>1</td>\n",
       "      <td>500546547</td>\n",
       "      <td>2017-01-01 01:40:39.180</td>\n",
       "      <td>10334</td>\n",
       "      <td>MOBILE</td>\n",
       "      <td>Cash</td>\n",
       "      <td>51.0</td>\n",
       "      <td>0</td>\n",
       "      <td>2015-03-18</td>\n",
       "      <td>FEMALE</td>\n",
       "      <td>ANKARA</td>\n",
       "      <td>30</td>\n",
       "      <td>Female Shoes</td>\n",
       "    </tr>\n",
       "  </tbody>\n",
       "</table>\n",
       "</div>"
      ],
      "text/plain": [
       "   TransactionID     UserID                DateTime  ProductID Channel  \\\n",
       "0              1  500546547 2017-01-01 01:40:39.180      10334  MOBILE   \n",
       "\n",
       "  PaymentType  Price  Discount UserFirstTransaction  Gender Location  Age  \\\n",
       "0        Cash   51.0         0           2015-03-18  FEMALE   ANKARA   30   \n",
       "\n",
       "       Category  \n",
       "0  Female Shoes  "
      ]
     },
     "execution_count": 21,
     "metadata": {},
     "output_type": "execute_result"
    }
   ],
   "source": [
    "first_period.head(1)"
   ]
  },
  {
   "cell_type": "code",
   "execution_count": 22,
   "id": "b995734e",
   "metadata": {},
   "outputs": [
    {
     "data": {
      "text/html": [
       "<div>\n",
       "<style scoped>\n",
       "    .dataframe tbody tr th:only-of-type {\n",
       "        vertical-align: middle;\n",
       "    }\n",
       "\n",
       "    .dataframe tbody tr th {\n",
       "        vertical-align: top;\n",
       "    }\n",
       "\n",
       "    .dataframe thead th {\n",
       "        text-align: right;\n",
       "    }\n",
       "</style>\n",
       "<table border=\"1\" class=\"dataframe\">\n",
       "  <thead>\n",
       "    <tr style=\"text-align: right;\">\n",
       "      <th></th>\n",
       "      <th>TransactionID</th>\n",
       "      <th>UserID</th>\n",
       "      <th>DateTime</th>\n",
       "      <th>ProductID</th>\n",
       "      <th>Channel</th>\n",
       "      <th>PaymentType</th>\n",
       "      <th>Price</th>\n",
       "      <th>Discount</th>\n",
       "      <th>UserFirstTransaction</th>\n",
       "      <th>Gender</th>\n",
       "      <th>Location</th>\n",
       "      <th>Age</th>\n",
       "      <th>Category</th>\n",
       "    </tr>\n",
       "  </thead>\n",
       "  <tbody>\n",
       "    <tr>\n",
       "      <th>3</th>\n",
       "      <td>33462</td>\n",
       "      <td>500338383</td>\n",
       "      <td>2017-11-05 15:09:01.390</td>\n",
       "      <td>10334</td>\n",
       "      <td>WEB</td>\n",
       "      <td>Mobile Payment</td>\n",
       "      <td>30.0</td>\n",
       "      <td>0</td>\n",
       "      <td>2014-06-19</td>\n",
       "      <td>FEMALE</td>\n",
       "      <td>TRABZON</td>\n",
       "      <td>28</td>\n",
       "      <td>Female Shoes</td>\n",
       "    </tr>\n",
       "  </tbody>\n",
       "</table>\n",
       "</div>"
      ],
      "text/plain": [
       "   TransactionID     UserID                DateTime  ProductID Channel  \\\n",
       "3          33462  500338383 2017-11-05 15:09:01.390      10334     WEB   \n",
       "\n",
       "      PaymentType  Price  Discount UserFirstTransaction  Gender Location  Age  \\\n",
       "3  Mobile Payment   30.0         0           2014-06-19  FEMALE  TRABZON   28   \n",
       "\n",
       "       Category  \n",
       "3  Female Shoes  "
      ]
     },
     "execution_count": 22,
     "metadata": {},
     "output_type": "execute_result"
    }
   ],
   "source": [
    "second_period.head(1)"
   ]
  },
  {
   "cell_type": "markdown",
   "id": "346f4d03",
   "metadata": {},
   "source": [
    "- By printing the first five lines of the two newly created DataFrames (**first_period** and **second_period**), we check that they are correctly divided into periods."
   ]
  },
  {
   "cell_type": "markdown",
   "id": "e0216dd5",
   "metadata": {},
   "source": [
    "---------------------------------"
   ]
  },
  {
   "cell_type": "markdown",
   "id": "c418e23c",
   "metadata": {},
   "source": [
    "**The above code splits the 18-month transaction dataset into two 9-month periods and stores these periods in two separate DataFrames. These steps can be used to use the dataset for purposes such as time series analysis or to study customer behaviour over different periods.**"
   ]
  },
  {
   "cell_type": "markdown",
   "id": "88b192a5",
   "metadata": {},
   "source": [
    "---------------------------------"
   ]
  },
  {
   "cell_type": "markdown",
   "id": "fe798f3f",
   "metadata": {},
   "source": [
    "---------------------------------"
   ]
  },
  {
   "cell_type": "markdown",
   "id": "95079698",
   "metadata": {},
   "source": [
    "# Question 2: Create churn variable from dataset. You are supposed to use the first 9-month duration to construct your model. For example, you should use the first 6-month duration for the active users and use the last 3-month period to determine if these active users churn within this 3-month period. (Please resolve if there is imbalance in response before modeling.)"
   ]
  },
  {
   "cell_type": "markdown",
   "id": "dc9ddff9",
   "metadata": {},
   "source": [
    "This question asks you to create a \"churn\" variable from an existing dataset. Churn refers to when a customer stops using a service or product. The question asks you to use the first 9 months in the dataset to build your model.\n",
    "\n",
    "Let's explain the steps as follows:\n",
    "\n",
    "- Using the 'DateTime' column in the dataset, determine that the data is over a period of 9 months. You will use the first 6 months to identify active users, while the last 3 months are used to determine whether these users churn or not.\n",
    "\n",
    "- Determine the users who were active during the first 6 months. To do this, make sure that each user (UserID) has made at least one transaction during this period. A list of these users is created.\n",
    "\n",
    "- In the last 3-month period, the previously determined active users are checked for churn. If there are no transactions from a user in this period, this user can be considered as churn.\n",
    "\n",
    "- Churn values are added to the dataset as a new 'Churn' column. This column will contain the values 0 (no churn) or 1 (churn) for each user.\n"
   ]
  },
  {
   "cell_type": "markdown",
   "id": "880aa50f",
   "metadata": {},
   "source": [
    "1- Read the dataset and get the date columns in the correct format."
   ]
  },
  {
   "cell_type": "code",
   "execution_count": 23,
   "id": "5ebdb084",
   "metadata": {},
   "outputs": [],
   "source": [
    "df['DateTime'] = pd.to_datetime(df['DateTime'])\n",
    "df['UserFirstTransaction'] = pd.to_datetime(df['UserFirstTransaction'])"
   ]
  },
  {
   "cell_type": "markdown",
   "id": "c10498f8",
   "metadata": {},
   "source": [
    "---------------------------------"
   ]
  },
  {
   "cell_type": "markdown",
   "id": "70a775fd",
   "metadata": {},
   "source": [
    "2- The first 6 months and the last 3 months are determined."
   ]
  },
  {
   "cell_type": "code",
   "execution_count": 24,
   "id": "10f74fa2",
   "metadata": {},
   "outputs": [],
   "source": [
    "cutoff_date_6_months = df['DateTime'].min() + pd.DateOffset(months=6)\n",
    "cutoff_date_9_months = df['DateTime'].min() + pd.DateOffset(months=9)"
   ]
  },
  {
   "cell_type": "markdown",
   "id": "7a1e866f",
   "metadata": {},
   "source": [
    " - For the first 6 months, a cut-off date is set by adding 6 months to the minimum date. Likewise, another cut-off date is set for the 9-month period by adding 9 months to the minimum date."
   ]
  },
  {
   "cell_type": "markdown",
   "id": "2e248d26",
   "metadata": {},
   "source": [
    "---------------------------------"
   ]
  },
  {
   "cell_type": "markdown",
   "id": "44f1466c",
   "metadata": {},
   "source": [
    "3- Active users in the first 6 months are determined."
   ]
  },
  {
   "cell_type": "code",
   "execution_count": 25,
   "id": "58558768",
   "metadata": {},
   "outputs": [],
   "source": [
    "active_users = df[df['DateTime'] <= cutoff_date_6_months]['UserID'].unique()"
   ]
  },
  {
   "cell_type": "markdown",
   "id": "1ecdca5f",
   "metadata": {},
   "source": [
    "- It takes a unique list of users who have made transactions within the first 6 months and assigns it to a list called \"**active_users**\"."
   ]
  },
  {
   "cell_type": "markdown",
   "id": "0f764632",
   "metadata": {},
   "source": [
    "---------------------------------"
   ]
  },
  {
   "cell_type": "markdown",
   "id": "32d46fb2",
   "metadata": {},
   "source": [
    "4- For active users, it is checked whether they have made transactions in the last 3 months."
   ]
  },
  {
   "cell_type": "code",
   "execution_count": 26,
   "id": "8bd62556",
   "metadata": {},
   "outputs": [],
   "source": [
    "churn_users = []\n",
    "for user in active_users:\n",
    "    user_transactions = df[df['UserID'] == user]\n",
    "    last_transaction = user_transactions['DateTime'].max()\n",
    "    if last_transaction <= cutoff_date_6_months:\n",
    "        churn_users.append(user)"
   ]
  },
  {
   "cell_type": "markdown",
   "id": "ca162d0f",
   "metadata": {},
   "source": [
    "- In the list of active users, we start the loop and retrieve the transactions of each user. If the user's last transaction date is less than or equal to the 6 month cut-off date, this user is added to the \"**churn_users**\" list. This means that the user has not processed in the last 3 months and is considered churn."
   ]
  },
  {
   "cell_type": "markdown",
   "id": "87c6d421",
   "metadata": {},
   "source": [
    "---------------------------------"
   ]
  },
  {
   "cell_type": "markdown",
   "id": "df3320d4",
   "metadata": {},
   "source": [
    "5- The Churn column is created."
   ]
  },
  {
   "cell_type": "code",
   "execution_count": 27,
   "id": "9ed3a6cf",
   "metadata": {},
   "outputs": [],
   "source": [
    "df['Churn'] = np.where(df['UserID'].isin(churn_users), 1, 0)"
   ]
  },
  {
   "cell_type": "markdown",
   "id": "d8ba1429",
   "metadata": {},
   "source": [
    "- A new column called \"**Churn**\" is created. If the user is in the churn_users list, we assign the value 1 to this column; if not, we assign the value 0."
   ]
  },
  {
   "cell_type": "markdown",
   "id": "8e490518",
   "metadata": {},
   "source": [
    "---------------------------------"
   ]
  },
  {
   "cell_type": "markdown",
   "id": "3ad4e4c0",
   "metadata": {},
   "source": [
    "6- The state of imbalance is checked."
   ]
  },
  {
   "cell_type": "code",
   "execution_count": 28,
   "id": "9261da10",
   "metadata": {},
   "outputs": [
    {
     "name": "stdout",
     "output_type": "stream",
     "text": [
      "0    67346\n",
      "1     1713\n",
      "Name: Churn, dtype: int64\n"
     ]
    }
   ],
   "source": [
    "churn_counts = df['Churn'].value_counts()\n",
    "print(churn_counts)"
   ]
  },
  {
   "cell_type": "markdown",
   "id": "804e1783",
   "metadata": {},
   "source": [
    "- This situation indicates a class imbalance. That is, the proportion of users with churn is considerably lower than the proportion of users without churn. An imbalanced dataset means that your prediction model will tend to accurately predict non-churn users, but may struggle to predict churn users well."
   ]
  },
  {
   "cell_type": "markdown",
   "id": "8542dcad",
   "metadata": {},
   "source": [
    "### To address this imbalance, we use **Oversampling** to balance the dataset."
   ]
  },
  {
   "cell_type": "markdown",
   "id": "926d66d0",
   "metadata": {},
   "source": [
    "SMOTE (Synthetic Minority Over-sampling Technique) is used to stabilise the dataset."
   ]
  },
  {
   "cell_type": "code",
   "execution_count": 29,
   "id": "af78769e",
   "metadata": {},
   "outputs": [],
   "source": [
    "x = df.drop(['Churn','TransactionID','UserID','DateTime','ProductID','UserFirstTransaction'],axis=1)  # Churn sütunu hariç tüm özellikler\n",
    "y = df['Churn']"
   ]
  },
  {
   "cell_type": "code",
   "execution_count": 30,
   "id": "acade1ca",
   "metadata": {},
   "outputs": [],
   "source": [
    "x = pd.get_dummies(x,drop_first=True)"
   ]
  },
  {
   "cell_type": "code",
   "execution_count": 31,
   "id": "eb8c9b27",
   "metadata": {},
   "outputs": [],
   "source": [
    "x_train, x_test, y_train, y_test = train_test_split(x, y, test_size=0.2, random_state=42)"
   ]
  },
  {
   "cell_type": "code",
   "execution_count": 32,
   "id": "cfb7872d",
   "metadata": {},
   "outputs": [],
   "source": [
    "smote = SMOTE(random_state=42)\n",
    "x_train_resampled, y_train_resampled = smote.fit_resample(x_train, y_train)"
   ]
  },
  {
   "cell_type": "code",
   "execution_count": 33,
   "id": "e364b826",
   "metadata": {},
   "outputs": [
    {
     "data": {
      "text/plain": [
       "0    53882\n",
       "1    53882\n",
       "Name: Churn, dtype: int64"
      ]
     },
     "execution_count": 33,
     "metadata": {},
     "output_type": "execute_result"
    }
   ],
   "source": [
    "pd.Series(y_train_resampled).value_counts()"
   ]
  },
  {
   "cell_type": "markdown",
   "id": "ea380fbd",
   "metadata": {},
   "source": [
    "---------------------------------"
   ]
  },
  {
   "cell_type": "markdown",
   "id": "6f404f5e",
   "metadata": {},
   "source": [
    "---------------------------------"
   ]
  },
  {
   "cell_type": "markdown",
   "id": "72d6490b",
   "metadata": {},
   "source": [
    "## Question 3: Once you learn from the first 9-month period, proceed with the second 9-month data. Use your churn model obtained in (2) to predict if active customers (for example, those who were active in the first 6-month period of the second data set) churn in the last 3 months of this duration."
   ]
  },
  {
   "cell_type": "markdown",
   "id": "3594a958",
   "metadata": {},
   "source": [
    "This question asks us to predict whether customers in the second 9-month period will churn, using the churn pattern learnt in the first 9-month period. For this purpose, the following steps are followed.\n",
    "\n",
    "- Identify the active users in the second 9-month period\n",
    "- Train the churn model (using the dataset previously balanced with SMOTE).\n",
    "- For active users it is predicted whether they will churn or not."
   ]
  },
  {
   "cell_type": "code",
   "execution_count": 34,
   "id": "0162f498",
   "metadata": {},
   "outputs": [],
   "source": [
    "active_time_window = pd.DateOffset(months=6)\n",
    "churn_time_window = pd.DateOffset(months=3)"
   ]
  },
  {
   "cell_type": "code",
   "execution_count": 35,
   "id": "adfa2bb4",
   "metadata": {},
   "outputs": [],
   "source": [
    "# İkinci dönemdeki ilk 6 aylık dönem\n",
    "second_period_active_start = cutoff_date_9_months\n",
    "second_period_active_end = second_period_active_start + active_time_window"
   ]
  },
  {
   "cell_type": "code",
   "execution_count": 36,
   "id": "f9f71097",
   "metadata": {},
   "outputs": [],
   "source": [
    "# İkinci dönemdeki son 3 aylık dönem\n",
    "second_period_churn_start = second_period_active_end\n",
    "second_period_churn_end = second_period_churn_start + churn_time_window"
   ]
  },
  {
   "cell_type": "code",
   "execution_count": 37,
   "id": "416b9f0c",
   "metadata": {},
   "outputs": [],
   "source": [
    "# İkinci dönemdeki aktif kullanıcılar\n",
    "active_users_second_period = second_period[(second_period['DateTime'] >= second_period_active_start) & (second_period['DateTime'] <= second_period_active_end)]['UserID'].unique()"
   ]
  },
  {
   "cell_type": "code",
   "execution_count": 39,
   "id": "85ac39a2",
   "metadata": {},
   "outputs": [],
   "source": [
    "def algo_test(x,y):\n",
    "    gauss = GaussianNB()\n",
    "    kneClas = KNeighborsClassifier()\n",
    "    svc = SVC()\n",
    "    bernoulli = BernoulliNB()\n",
    "    randForestClas= RandomForestClassifier()\n",
    "    gradBoodClas = GradientBoostingClassifier()\n",
    "    logReg = LogisticRegression()\n",
    "    decTreeClas = DecisionTreeClassifier()\n",
    "    \n",
    "    x_train, x_test, y_train, y_test = train_test_split(x,y, test_size=0.2, random_state=42)\n",
    "    smote = SMOTE(random_state=42)\n",
    "    x_train_resampled, y_train_resampled = smote.fit_resample(x_train, y_train)\n",
    "    \n",
    "    algos = [gauss,kneClas,svc,bernoulli,randForestClas,gradBoodClas,logReg,decTreeClas]\n",
    "    algo_names = [\"GaussianNB\",\"KNeighborsClassifier\",\"SVC\",\"BernoulliNB\",\"RandomForestClassifier\",\"GradientBoostingClassifier\",\"LogisticRegression\",\"DecisionTreeClassifier\"]\n",
    "    ac_sc = []\n",
    "    con_mat = []\n",
    "    clas_rep = []\n",
    "    \n",
    "    result = pd.DataFrame(columns = [\"Accuracy_Score\",\"Confusion_Matrix\",\"Classification_Report\"],index = algo_names)\n",
    "    \n",
    "    for algo in algos:\n",
    "        algo.fit(x_train_resampled,y_train_resampled)\n",
    "        ac_sc.append(accuracy_score(algo.predict(x_test),y_test))\n",
    "        con_mat.append(confusion_matrix(algo.predict(x_test),y_test))\n",
    "        clas_rep.append(classification_report(algo.predict(x_test),y_test))\n",
    "        \n",
    "    result.Accuracy_Score =ac_sc\n",
    "    result.Confusion_Matrix = con_mat\n",
    "    result.Classification_Report = clas_rep\n",
    "    return result.sort_values(\"Accuracy_Score\", ascending=False)"
   ]
  },
  {
   "cell_type": "code",
   "execution_count": 40,
   "id": "99cdd93e",
   "metadata": {},
   "outputs": [
    {
     "name": "stderr",
     "output_type": "stream",
     "text": [
      "C:\\Users\\abdul\\anaconda3\\envs\\notebook-\\lib\\site-packages\\sklearn\\linear_model\\_logistic.py:458: ConvergenceWarning: lbfgs failed to converge (status=1):\n",
      "STOP: TOTAL NO. of ITERATIONS REACHED LIMIT.\n",
      "\n",
      "Increase the number of iterations (max_iter) or scale the data as shown in:\n",
      "    https://scikit-learn.org/stable/modules/preprocessing.html\n",
      "Please also refer to the documentation for alternative solver options:\n",
      "    https://scikit-learn.org/stable/modules/linear_model.html#logistic-regression\n",
      "  n_iter_i = _check_optimize_result(\n"
     ]
    },
    {
     "data": {
      "text/html": [
       "<div>\n",
       "<style scoped>\n",
       "    .dataframe tbody tr th:only-of-type {\n",
       "        vertical-align: middle;\n",
       "    }\n",
       "\n",
       "    .dataframe tbody tr th {\n",
       "        vertical-align: top;\n",
       "    }\n",
       "\n",
       "    .dataframe thead th {\n",
       "        text-align: right;\n",
       "    }\n",
       "</style>\n",
       "<table border=\"1\" class=\"dataframe\">\n",
       "  <thead>\n",
       "    <tr style=\"text-align: right;\">\n",
       "      <th></th>\n",
       "      <th>Accuracy_Score</th>\n",
       "      <th>Confusion_Matrix</th>\n",
       "      <th>Classification_Report</th>\n",
       "    </tr>\n",
       "  </thead>\n",
       "  <tbody>\n",
       "    <tr>\n",
       "      <th>RandomForestClassifier</th>\n",
       "      <td>0.977121</td>\n",
       "      <td>[[13360, 212], [104, 136]]</td>\n",
       "      <td>precision    recall  f1-score   ...</td>\n",
       "    </tr>\n",
       "    <tr>\n",
       "      <th>DecisionTreeClassifier</th>\n",
       "      <td>0.964596</td>\n",
       "      <td>[[13163, 188], [301, 160]]</td>\n",
       "      <td>precision    recall  f1-score   ...</td>\n",
       "    </tr>\n",
       "    <tr>\n",
       "      <th>GradientBoostingClassifier</th>\n",
       "      <td>0.890892</td>\n",
       "      <td>[[12194, 237], [1270, 111]]</td>\n",
       "      <td>precision    recall  f1-score   ...</td>\n",
       "    </tr>\n",
       "    <tr>\n",
       "      <th>LogisticRegression</th>\n",
       "      <td>0.848972</td>\n",
       "      <td>[[11662, 284], [1802, 64]]</td>\n",
       "      <td>precision    recall  f1-score   ...</td>\n",
       "    </tr>\n",
       "    <tr>\n",
       "      <th>KNeighborsClassifier</th>\n",
       "      <td>0.839632</td>\n",
       "      <td>[[11399, 150], [2065, 198]]</td>\n",
       "      <td>precision    recall  f1-score   ...</td>\n",
       "    </tr>\n",
       "    <tr>\n",
       "      <th>BernoulliNB</th>\n",
       "      <td>0.814871</td>\n",
       "      <td>[[11174, 267], [2290, 81]]</td>\n",
       "      <td>precision    recall  f1-score   ...</td>\n",
       "    </tr>\n",
       "    <tr>\n",
       "      <th>SVC</th>\n",
       "      <td>0.782942</td>\n",
       "      <td>[[10696, 230], [2768, 118]]</td>\n",
       "      <td>precision    recall  f1-score   ...</td>\n",
       "    </tr>\n",
       "    <tr>\n",
       "      <th>GaussianNB</th>\n",
       "      <td>0.366783</td>\n",
       "      <td>[[4823, 105], [8641, 243]]</td>\n",
       "      <td>precision    recall  f1-score   ...</td>\n",
       "    </tr>\n",
       "  </tbody>\n",
       "</table>\n",
       "</div>"
      ],
      "text/plain": [
       "                            Accuracy_Score             Confusion_Matrix  \\\n",
       "RandomForestClassifier            0.977121   [[13360, 212], [104, 136]]   \n",
       "DecisionTreeClassifier            0.964596   [[13163, 188], [301, 160]]   \n",
       "GradientBoostingClassifier        0.890892  [[12194, 237], [1270, 111]]   \n",
       "LogisticRegression                0.848972   [[11662, 284], [1802, 64]]   \n",
       "KNeighborsClassifier              0.839632  [[11399, 150], [2065, 198]]   \n",
       "BernoulliNB                       0.814871   [[11174, 267], [2290, 81]]   \n",
       "SVC                               0.782942  [[10696, 230], [2768, 118]]   \n",
       "GaussianNB                        0.366783   [[4823, 105], [8641, 243]]   \n",
       "\n",
       "                                                        Classification_Report  \n",
       "RandomForestClassifier                    precision    recall  f1-score   ...  \n",
       "DecisionTreeClassifier                    precision    recall  f1-score   ...  \n",
       "GradientBoostingClassifier                precision    recall  f1-score   ...  \n",
       "LogisticRegression                        precision    recall  f1-score   ...  \n",
       "KNeighborsClassifier                      precision    recall  f1-score   ...  \n",
       "BernoulliNB                               precision    recall  f1-score   ...  \n",
       "SVC                                       precision    recall  f1-score   ...  \n",
       "GaussianNB                                precision    recall  f1-score   ...  "
      ]
     },
     "execution_count": 40,
     "metadata": {},
     "output_type": "execute_result"
    }
   ],
   "source": [
    "algo_test(x,y)"
   ]
  },
  {
   "cell_type": "code",
   "execution_count": null,
   "id": "0e48525c",
   "metadata": {},
   "outputs": [],
   "source": []
  },
  {
   "cell_type": "code",
   "execution_count": 42,
   "id": "87a3ce98",
   "metadata": {},
   "outputs": [],
   "source": [
    "# İkinci dönemdeki aktif kullanıcılar için özellikleri filtreleyin\n",
    "#x_active_users = x[x['UserID'].isin(active_users_second_period)]\n",
    "\n",
    "# Churn tahminleri yapın\n",
    "#active_user_churn_predictions = model.predict(x_active_users)\n"
   ]
  },
  {
   "cell_type": "code",
   "execution_count": null,
   "id": "abdc3668",
   "metadata": {},
   "outputs": [],
   "source": []
  },
  {
   "cell_type": "code",
   "execution_count": null,
   "id": "bc6c06e8",
   "metadata": {},
   "outputs": [],
   "source": [
    "model = Sequential()\n",
    "model.add(Dense(1024, activation = \"relu\"))\n",
    "model.add(Dense(512, activation = \"relu\"))\n",
    "model.add(Dense(256, activation = \"relu\"))\n",
    "model.add(Dense(128, activation = \"relu\"))\n",
    "model.add(Dense(64, activation = \"relu\"))\n",
    "model.add(Dense(32, activation = \"relu\"))\n",
    "model.add(Dense(16, activation = \"relu\"))\n",
    "model.add(Dense(8, activation = \"relu\"))\n",
    "model.add(Dense(1, activation = \"sigmoid\"))\n",
    "model.compile(loss=\"binary_crossentropy\", optimizer=\"adam\" ,metrics=\"accuracy\")\n",
    "model.fit(x,y, epochs=1000, batch_size=128,verbose=1)"
   ]
  },
  {
   "cell_type": "code",
   "execution_count": null,
   "id": "4bb913c0",
   "metadata": {},
   "outputs": [],
   "source": [
    "model.summary()"
   ]
  },
  {
   "cell_type": "code",
   "execution_count": null,
   "id": "cfaefd84",
   "metadata": {},
   "outputs": [],
   "source": [
    "model.evaluate(x,y)"
   ]
  },
  {
   "cell_type": "code",
   "execution_count": null,
   "id": "c422964d",
   "metadata": {},
   "outputs": [],
   "source": []
  },
  {
   "cell_type": "code",
   "execution_count": null,
   "id": "c4fa1fea",
   "metadata": {},
   "outputs": [],
   "source": []
  },
  {
   "cell_type": "code",
   "execution_count": null,
   "id": "fd5be455",
   "metadata": {},
   "outputs": [],
   "source": []
  },
  {
   "cell_type": "code",
   "execution_count": null,
   "id": "12bb7221",
   "metadata": {},
   "outputs": [],
   "source": []
  },
  {
   "cell_type": "code",
   "execution_count": 38,
   "id": "1613d5f1",
   "metadata": {},
   "outputs": [
    {
     "ename": "SyntaxError",
     "evalue": "invalid syntax (894414713.py, line 1)",
     "output_type": "error",
     "traceback": [
      "\u001b[1;36m  Cell \u001b[1;32mIn[38], line 1\u001b[1;36m\u001b[0m\n\u001b[1;33m    ---------------------------------\u001b[0m\n\u001b[1;37m                                     ^\u001b[0m\n\u001b[1;31mSyntaxError\u001b[0m\u001b[1;31m:\u001b[0m invalid syntax\n"
     ]
    }
   ],
   "source": [
    "---------------------------------"
   ]
  },
  {
   "cell_type": "markdown",
   "id": "b933a522",
   "metadata": {},
   "source": [
    "---------------------------------"
   ]
  },
  {
   "cell_type": "code",
   "execution_count": null,
   "id": "79a5b3fd",
   "metadata": {},
   "outputs": [],
   "source": [
    "---------------------------------"
   ]
  },
  {
   "cell_type": "code",
   "execution_count": null,
   "id": "a5721413",
   "metadata": {},
   "outputs": [],
   "source": [
    "---------------------------------"
   ]
  }
 ],
 "metadata": {
  "kernelspec": {
   "display_name": "Python 3 (ipykernel)",
   "language": "python",
   "name": "python3"
  },
  "language_info": {
   "codemirror_mode": {
    "name": "ipython",
    "version": 3
   },
   "file_extension": ".py",
   "mimetype": "text/x-python",
   "name": "python",
   "nbconvert_exporter": "python",
   "pygments_lexer": "ipython3",
   "version": "3.10.9"
  }
 },
 "nbformat": 4,
 "nbformat_minor": 5
}
